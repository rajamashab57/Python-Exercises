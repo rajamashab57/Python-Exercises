{
 "cells": [
  {
   "cell_type": "code",
   "execution_count": 8,
   "metadata": {},
   "outputs": [
    {
     "name": "stdout",
     "output_type": "stream",
     "text": [
      "0\n",
      "1\n",
      "2\n"
     ]
    }
   ],
   "source": [
    "words = ['cat', 'window', 'defenestrate']\n",
    "for w in range(len(words)):\n",
    "    print(w)"
   ]
  },
  {
   "cell_type": "code",
   "execution_count": 21,
   "metadata": {},
   "outputs": [
    {
     "name": "stdout",
     "output_type": "stream",
     "text": [
      "index = 0 and elemnts = RajaMashab\n",
      "index = 1 and elemnts = RajaMashab\n",
      "index = 2 and elemnts = RajaMashab\n",
      "index = 3 and elemnts = RajaMashab\n"
     ]
    }
   ],
   "source": [
    "lis = \"RajaMashab\"\n",
    "for i in range(len(lis)):\n",
    "    if i == len(\"Raja\"):\n",
    "        break\n",
    "    else:\n",
    "        print(f\"index = {i} and elemnts = {lis}\")\n",
    "              \n",
    "                      "
   ]
  },
  {
   "cell_type": "code",
   "execution_count": 23,
   "metadata": {},
   "outputs": [
    {
     "name": "stdout",
     "output_type": "stream",
     "text": [
      "This is the same object as a\n",
      "This is the same object as a\n",
      "This is not the same object as a\n"
     ]
    }
   ],
   "source": [
    "a = [1, 2, 3]\n",
    "b = a  # b refers to the same list as a\n",
    "c = [1, 2, 3]  # c is a different list with the same contents\n",
    "\n",
    "for element in [a, b, c]:\n",
    "    if element is a:\n",
    "        print(\"This is the same object as a\")\n",
    "    else:\n",
    "        print(\"This is not the same object as a\")\n",
    "\n"
   ]
  },
  {
   "cell_type": "code",
   "execution_count": 13,
   "metadata": {},
   "outputs": [
    {
     "name": "stdout",
     "output_type": "stream",
     "text": [
      "Raja mashab\n",
      "False\n",
      "False\n",
      "raja Mashab\n",
      "1\n",
      "False\n",
      "raja mashab\n",
      "raja Mashab\n"
     ]
    }
   ],
   "source": [
    "message = \"raja Mashab\"\n",
    "\n",
    "print(message.capitalize())\n",
    "\n",
    "print(message.istitle())\n",
    "\n",
    "print(message.isnumeric())\n",
    "\n",
    "print(message.lstrip())\n",
    "\n",
    "print(message.find(\"a\"))\n",
    "\n",
    "print(message.isdecimal())\n",
    "\n",
    "\n",
    "print(message.lower())\n",
    "print(message.expandtabs())"
   ]
  },
  {
   "cell_type": "code",
   "execution_count": null,
   "metadata": {},
   "outputs": [],
   "source": [
    "n : int = 4\n",
    "\n",
    "i : int = 1\n",
    "\n",
    "while i <  11:\n",
    "    print(f\"{n} x {i} = {n*i}\")\n",
    "    i+=1"
   ]
  },
  {
   "cell_type": "code",
   "execution_count": 7,
   "metadata": {},
   "outputs": [
    {
     "name": "stdout",
     "output_type": "stream",
     "text": [
      "7\n"
     ]
    }
   ],
   "source": [
    "i = 0\n",
    "n = int(input(\"Enter the numbers :\"))\n",
    "while n > i:\n",
    "    print(n)\n",
    "    i += n\n",
    "    \n"
   ]
  },
  {
   "cell_type": "code",
   "execution_count": 25,
   "metadata": {},
   "outputs": [
    {
     "name": "stdout",
     "output_type": "stream",
     "text": [
      "-5\n"
     ]
    }
   ],
   "source": [
    "# sum_of_numbers = 0\n",
    "\n",
    "# numbers = int(input(\"Enter the numbers :\"))\n",
    "sum_of_numbers = 0\n",
    "for i in range(10,20):\n",
    "    if i % 2 == 0:\n",
    "       sum_of_numbers += i\n",
    "    elif i % 2 !=0 and i > 10:\n",
    "        sum_of_numbers -=i\n",
    "print(sum_of_numbers)"
   ]
  },
  {
   "cell_type": "code",
   "execution_count": 30,
   "metadata": {},
   "outputs": [
    {
     "name": "stdout",
     "output_type": "stream",
     "text": [
      "-75\n"
     ]
    }
   ],
   "source": [
    "sum_of_numbers = 0\n",
    "\n",
    "\n",
    "for i in range(10,20):\n",
    "    if i % 2 != 0:\n",
    "     sum_of_numbers -=i\n",
    "print(sum_of_numbers)"
   ]
  },
  {
   "cell_type": "code",
   "execution_count": null,
   "metadata": {},
   "outputs": [],
   "source": [
    "dict = {\"a\": 1, \"b\": 2, \"c\": 3}\n",
    "for key in dict:\n",
    "    print(key)\n",
    "for key, value in dict.items():\n",
    "    print(key, value)\n"
   ]
  },
  {
   "cell_type": "code",
   "execution_count": null,
   "metadata": {},
   "outputs": [],
   "source": [
    "from collections import deque\n",
    "d = deque([1, 2, 3, 4, 5])\n",
    "for item in d:\n",
    "    print(item)\n"
   ]
  },
  {
   "cell_type": "code",
   "execution_count": null,
   "metadata": {},
   "outputs": [],
   "source": [
    "import itertools\n",
    "items = ['A', 'B', 'C']\n",
    "for combination in itertools.combinations(items, 2):\n",
    "    print(combination)\n",
    "\n",
    "for permutation in itertools.permutations(items):\n",
    "    print(permutation)\n"
   ]
  },
  {
   "cell_type": "code",
   "execution_count": 15,
   "metadata": {},
   "outputs": [
    {
     "name": "stdout",
     "output_type": "stream",
     "text": [
      "Loop completed without break\n"
     ]
    }
   ],
   "source": [
    "for number in range(10):\n",
    "    if number == 5:\n",
    "     number += 1\n",
    "else:\n",
    "      print(\"Loop completed without break\")\n"
   ]
  },
  {
   "cell_type": "code",
   "execution_count": null,
   "metadata": {},
   "outputs": [],
   "source": [
    "square_gen = (x**2 for x in range(10))\n",
    "for square in square_gen:\n",
    "    print(square)\n"
   ]
  },
  {
   "cell_type": "code",
   "execution_count": 1,
   "metadata": {},
   "outputs": [
    {
     "name": "stdout",
     "output_type": "stream",
     "text": [
      "  *\n",
      " ***\n",
      "*****\n",
      " ***\n",
      "  *\n"
     ]
    }
   ],
   "source": [
    "def print_pyramid(n):\n",
    "    for i in range(n):\n",
    "        print(' ' * (n - i - 1) + '*' * (2 * i + 1))\n",
    "    for i in range(n - 2, -1, -1):\n",
    "        print(' ' * (n - i - 1) + '*' * (2 * i + 1))\n",
    "\n",
    "print_pyramid(3)\n"
   ]
  },
  {
   "cell_type": "code",
   "execution_count": 9,
   "metadata": {},
   "outputs": [
    {
     "name": "stdout",
     "output_type": "stream",
     "text": [
      "  *\n",
      " ***\n",
      "*****\n",
      "*******\n"
     ]
    }
   ],
   "source": [
    "\n",
    "n = 4\n",
    "for i in range(n):\n",
    "    print(' ' * (n - i - 2) + '*' * (2 * i + 1))\n"
   ]
  }
 ],
 "metadata": {
  "kernelspec": {
   "display_name": "Python 3",
   "language": "python",
   "name": "python3"
  },
  "language_info": {
   "codemirror_mode": {
    "name": "ipython",
    "version": 3
   },
   "file_extension": ".py",
   "mimetype": "text/x-python",
   "name": "python",
   "nbconvert_exporter": "python",
   "pygments_lexer": "ipython3",
   "version": "3.12.3"
  }
 },
 "nbformat": 4,
 "nbformat_minor": 2
}
