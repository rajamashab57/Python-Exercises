{
 "cells": [
  {
   "cell_type": "code",
   "execution_count": 1,
   "metadata": {},
   "outputs": [
    {
     "name": "stdout",
     "output_type": "stream",
     "text": [
      "Toyota\n",
      "Corolla\n",
      "The Red Toyota Corolla is starting.\n",
      "The Red Toyota Corolla is stopping.\n"
     ]
    }
   ],
   "source": [
    "# Define a class named Car\n",
    "class Car:\n",
    "    def __init__(self, make, model, color):\n",
    "        self.make = make         # Attribute\n",
    "        self.model = model       # Attribute\n",
    "        self.color = color       # Attribute\n",
    "    \n",
    "    def start(self):              # Method\n",
    "        print(f\"The {self.color} {self.make} {self.model} is starting.\")\n",
    "\n",
    "    def stop(self):               # Method\n",
    "        print(f\"The {self.color} {self.make} {self.model} is stopping.\")\n",
    "\n",
    "# Create an object (instance) of the Car class\n",
    "my_car = Car(\"Toyota\", \"Corolla\", \"Red\")\n",
    "\n",
    "# Access the object's attributes and methods\n",
    "print(my_car.make)  # Output: Toyota\n",
    "print(my_car.model) # Output: Corolla\n",
    "my_car.start()      # Output: The Red Toyota Corolla is starting.\n",
    "my_car.stop()       # Output: The Red Toyota Corolla is stopping.\n"
   ]
  },
  {
   "cell_type": "code",
   "execution_count": 21,
   "metadata": {},
   "outputs": [
    {
     "name": "stdout",
     "output_type": "stream",
     "text": [
      "Toyota\n",
      "Corolla\n",
      "The Red Toyota Corolla is starting.\n",
      "The Red Toyota Corolla is stopping.\n"
     ]
    }
   ],
   "source": [
    "class Car:\n",
    "    def __init__(self, make, model, color):\n",
    "        self.make = make         # Initialize the 'make' attribute\n",
    "        self.model = model       # Initialize the 'model' attribute\n",
    "        self.color = color       # Initialize the 'color' attribute\n",
    "    \n",
    "    def start(self):\n",
    "        print(f\"The {self.color} {self.make} {self.model} is starting.\")\n",
    "\n",
    "    def stop(self):\n",
    "        print(f\"The {self.color} {self.make} {self.model} is stopping.\")\n",
    "\n",
    "# Create an object (instance) of the Car class\n",
    "my_car = Car(\"Toyota\", \"Corolla\", \"Red\")\n",
    "\n",
    "print(my_car.make)\n",
    "print(my_car.model)\n",
    "my_car.start()\n",
    "my_car.stop()\n",
    "\n",
    "\n",
    "    "
   ]
  },
  {
   "cell_type": "code",
   "execution_count": 33,
   "metadata": {},
   "outputs": [
    {
     "name": "stdout",
     "output_type": "stream",
     "text": [
      "Red\n",
      "Corolla \n",
      "Toyota\n",
      "Toyota Corolla  Red is starting\n",
      "Toyota Corolla  Red is stoping\n"
     ]
    }
   ],
   "source": [
    "class Car:\n",
    "    def __init__(self,make,model, color ):\n",
    "        self.make = make\n",
    "        self.model = model\n",
    "        self.color = color\n",
    "    def start(self):\n",
    "        print(f\"{self.make} {self.model} {self.color} is starting\")\n",
    "    def  stop(self):\n",
    "        print(f\"{self.make} {self.model} {self.color} is stoping\")\n",
    "my_car  = Car(\"Toyota\" , \"Corolla \" ,\"Red\")\n",
    "\n",
    "print(my_car.color)\n",
    "print(my_car.model)\n",
    "print(my_car.make)\n",
    "\n",
    "my_car.start()\n",
    "my_car.stop()"
   ]
  },
  {
   "cell_type": "code",
   "execution_count": 38,
   "metadata": {},
   "outputs": [
    {
     "name": "stdout",
     "output_type": "stream",
     "text": [
      "Comsats university Abbottabad\n",
      "90%\n",
      "Raja Mashab\n",
      "Hi Raja Mashab and how Much Marks you Obtained \n",
      "Hi in which college you studying\n",
      "we studying in Comsats university Abbottabad collge \n"
     ]
    }
   ],
   "source": [
    "class  Student:\n",
    "    def __init__(self,Name , Marks, CollegeName):\n",
    "        self.Name = Name\n",
    "        self.Marks = Marks\n",
    "        self.CollegeName = CollegeName\n",
    "    \n",
    "    def display(self):\n",
    "         print(f\"Hi {self.Name} and how Much Marks you Obtained \")\n",
    "    \n",
    "    def displaycollege(self):\n",
    "        print(f\"Hi in which college you studying\")\n",
    "        \n",
    "    def display34(self):\n",
    "        print(f\"we studying in {self.CollegeName} collge \")\n",
    "        \n",
    "student_name = Student(\"Raja Mashab\" , \"90%\" , \"Comsats university Abbottabad\")\n",
    "print(student_name.CollegeName)\n",
    "print(student_name.Marks)\n",
    "print(student_name.Name)\n",
    "\n",
    "student_name.display()\n",
    "student_name.displaycollege()\n",
    "student_name.display34()\n",
    "\n"
   ]
  },
  {
   "cell_type": "code",
   "execution_count": 8,
   "metadata": {},
   "outputs": [
    {
     "name": "stdout",
     "output_type": "stream",
     "text": [
      "[1, 4, 9, 16, 25, 36]\n"
     ]
    }
   ],
   "source": [
    "y = [1,2,3,4,5,6]\n",
    "x = list(map(lambda y : y **2 ,y))\n",
    "\n",
    "print(x)"
   ]
  },
  {
   "cell_type": "code",
   "execution_count": 9,
   "metadata": {},
   "outputs": [
    {
     "name": "stdout",
     "output_type": "stream",
     "text": [
      "55\n"
     ]
    }
   ],
   "source": [
    "n = 1\n",
    "\n",
    "total = 0\n",
    "\n",
    "while n <=10:\n",
    "    total +=n\n",
    "    n +=1\n",
    "print(total)\n",
    "  \n"
   ]
  },
  {
   "cell_type": "code",
   "execution_count": null,
   "metadata": {},
   "outputs": [],
   "source": [
    "\n",
    "\n",
    "# class Generator(nn.Module):\n",
    "#     def __init__(self):\n",
    "#         super(Generator, self).__init__()\n",
    "#         self.model = nn.Sequential(\n",
    "#             nn.Linear(100, 256),\n",
    "#             nn.ReLU(),\n",
    "#             nn.Linear(256, 512),\n",
    "#             nn.ReLU(),\n",
    "#             nn.Linear(512, 784),\n",
    "#             nn.Tanh()\n",
    "#         )\n",
    "    \n",
    "#     def forward(self, x):\n",
    "#         return self.model(x)\n",
    "\n",
    "# class Discriminator(nn.Module):\n",
    "#     def __init__(self):\n",
    "#         super(Discriminator, self).__init__()\n",
    "    #     self.model = nn.Sequential(\n",
    "    #         nn.Linear(784, 512),\n",
    "    #         nn.LeakyReLU(0.2),\n",
    "    #         nn.Linear(512, 256),\n",
    "    #         nn.LeakyReLU(0.2),\n",
    "    #         nn.Linear(256, 1),\n",
    "    #         nn.Sigmoid()\n",
    "    #     )\n",
    "    \n",
    "    # def forward(self, x):\n",
    "    #     return self.model(x)\n"
   ]
  },
  {
   "cell_type": "code",
   "execution_count": null,
   "metadata": {},
   "outputs": [],
   "source": [
    "# import torch \n",
    "\n",
    "\n",
    "# some_tensor = torch.rand(3,4)\n",
    "\n",
    "# some_tensor"
   ]
  },
  {
   "cell_type": "code",
   "execution_count": 20,
   "metadata": {},
   "outputs": [
    {
     "name": "stdout",
     "output_type": "stream",
     "text": [
      "John\n",
      "David\n",
      "hi i am available right now John\n",
      "hi i am not available right now David\n",
      "hi i am available right now Raja\n",
      "hi i am not available right now Mashab\n"
     ]
    }
   ],
   "source": [
    "class Person:\n",
    "    def  __init__(self,fname ,lname):\n",
    "        self.fname  = fname\n",
    "        self.lname = lname\n",
    "    def myname(self):\n",
    "        print(f\"hi i am available right now {self.fname}\")\n",
    "        print (f\"hi i am not available right now {self.lname}\")\n",
    "\n",
    "x = Person(\"John\",\"David\")\n",
    "print(x.fname)\n",
    "print(x.lname)\n",
    "\n",
    "\n",
    "x.myname()\n",
    "\n",
    "class Student(Person):\n",
    "  def __init__(self, fname, lname):\n",
    "    Person.__init__(self, fname, lname)\n",
    "  \n",
    "\n",
    "x = Student(\"Raja\", \"Mashab\")    \n",
    "x.myname()"
   ]
  }
 ],
 "metadata": {
  "kernelspec": {
   "display_name": "Python 3",
   "language": "python",
   "name": "python3"
  },
  "language_info": {
   "codemirror_mode": {
    "name": "ipython",
    "version": 3
   },
   "file_extension": ".py",
   "mimetype": "text/x-python",
   "name": "python",
   "nbconvert_exporter": "python",
   "pygments_lexer": "ipython3",
   "version": "3.12.3"
  }
 },
 "nbformat": 4,
 "nbformat_minor": 2
}
