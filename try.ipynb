{
 "cells": [
  {
   "cell_type": "code",
   "execution_count": 3,
   "metadata": {},
   "outputs": [
    {
     "name": "stdout",
     "output_type": "stream",
     "text": [
      "You can't divide by zero!\n"
     ]
    }
   ],
   "source": [
    "try:\n",
    "    # Code that may raise an exception\n",
    "    result = 10 / 0\n",
    "except ZeroDivisionError:\n",
    "    # Code to handle the exception\n",
    "    print(\"You can't divide by zero!\")\n"
   ]
  },
  {
   "cell_type": "code",
   "execution_count": 6,
   "metadata": {},
   "outputs": [
    {
     "name": "stdout",
     "output_type": "stream",
     "text": [
      "There was a ValueError\n"
     ]
    }
   ],
   "source": [
    "try:\n",
    "    value = int(\"hello\")  \n",
    "except ValueError:\n",
    "    print(\"There was a ValueError\")\n",
    "except TypeError:\n",
    "    print(\"There was a TypeError\")\n"
   ]
  },
  {
   "cell_type": "code",
   "execution_count": 10,
   "metadata": {},
   "outputs": [
    {
     "name": "stdout",
     "output_type": "stream",
     "text": [
      "Hey you cannot divide the number by zero\n",
      "Bye\n"
     ]
    }
   ],
   "source": [
    "a : int = 23\n",
    "b : int = int(input(\"Enter your name here :\"))\n",
    "\n",
    "try: \n",
    "    print(a/b)\n",
    "except Exception:\n",
    "    print(\"Hey you cannot divide the number by zero\")\n",
    "print(\"Bye\")"
   ]
  }
 ],
 "metadata": {
  "kernelspec": {
   "display_name": "Python 3",
   "language": "python",
   "name": "python3"
  },
  "language_info": {
   "codemirror_mode": {
    "name": "ipython",
    "version": 3
   },
   "file_extension": ".py",
   "mimetype": "text/x-python",
   "name": "python",
   "nbconvert_exporter": "python",
   "pygments_lexer": "ipython3",
   "version": "3.12.3"
  }
 },
 "nbformat": 4,
 "nbformat_minor": 2
}
