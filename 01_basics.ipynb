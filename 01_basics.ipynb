{
 "cells": [
  {
   "cell_type": "code",
   "execution_count": null,
   "metadata": {},
   "outputs": [],
   "source": [
    "from langchain import Prompt\n",
    "\n",
    "# Define a prompt with specific instructions\n",
    "prompt = Prompt(\"Summarize the following text in 50 words: [TEXT]\")\n",
    "\n",
    "# Use the prompt\n",
    "response = prompt.generate(\"Long text to summarize\")\n",
    "print(response)\n"
   ]
  }
 ],
 "metadata": {
  "language_info": {
   "name": "python"
  }
 },
 "nbformat": 4,
 "nbformat_minor": 2
}
