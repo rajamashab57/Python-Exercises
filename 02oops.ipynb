{
 "cells": [
  {
   "cell_type": "code",
   "execution_count": 2,
   "metadata": {},
   "outputs": [
    {
     "name": "stdout",
     "output_type": "stream",
     "text": [
      "Base2\n"
     ]
    }
   ],
   "source": [
    "class Base1:\n",
    "    def method(self) -> str:\n",
    "        return \"Base1\"\n",
    "\n",
    "class Base2:\n",
    "    def khan(self) -> str:\n",
    "        return \"Base2\"\n",
    "\n",
    "class Derived(Base1, Base2):\n",
    "    pass\n",
    "\n",
    "obj = Derived()\n",
    "print(obj.khan())  # Output: Base1"
   ]
  },
  {
   "cell_type": "code",
   "execution_count": 3,
   "metadata": {},
   "outputs": [
    {
     "name": "stdout",
     "output_type": "stream",
     "text": [
      "object height 6 Feet\n",
      "object eye color blue\n",
      "Monther Speaking function: Pakistan zinda bad\n"
     ]
    }
   ],
   "source": [
    "class Mother:\n",
    "    def __init__(self,name:str) -> None:\n",
    "        self.name : str = name\n",
    "        self.eye_color : str = \"blue\"\n",
    "    \n",
    "    def speaking(self, words : str )->str:\n",
    "        return f\"Monther Speaking function: {words}\"\n",
    "\n",
    "class Father:\n",
    "    def __init__(self, name:str)->None:\n",
    "        self.name : str = name\n",
    "        self.height : str = \"6 Feet\"\n",
    "\n",
    "    def speaking(self, words : str )->str:\n",
    "        return f\"Father Speaking function: {words}\"\n",
    "\n",
    "class Child(Mother, Father):\n",
    "    def __init__(self, mother_name : str, father_name : str , child_name: str)->None:\n",
    "        Mother.__init__(self, mother_name)\n",
    "        Father.__init__(self, father_name)\n",
    "        self.child_name : str = child_name\n",
    "\n",
    "qasim : Child = Child(\"Naseem Bano\", \"Muhammad Aslam\",\"Muhammad Qasim\")\n",
    "\n",
    "print(f\"object height {qasim.height}\")\n",
    "print(f\"object eye color {qasim.eye_color}\")\n",
    "print(qasim.speaking(\"Pakistan zinda bad\"))"
   ]
  },
  {
   "cell_type": "code",
   "execution_count": null,
   "metadata": {},
   "outputs": [],
   "source": [
    "# class Mother:\n",
    "#     def __init__(self , Language : str , Name: str ) -> None:\n",
    "#         self.Language = Language\n",
    "#         self.Name = Name\n",
    "#     def speaking(self):\n",
    "#         # return f\"{self.language}\"\n",
    "    \n",
    "# class Father:\n",
    "    \n",
    "#     def __init__(self, Name : str , Language : str ) -> None:\n",
    "# #         self.Name = Name\n",
    "#         self.Language = Language \n",
    "        \n",
    "#     def bolna(self):\n",
    "#         return f\"{self.Name} {self.Language}\"\n",
    "\n",
    "# class Child(Mother,Father):\n",
    "#     def __init__(self, Language: str, Name: str , Child_Name : str) -> None:\n",
    "#         Mother().__init__(Language, Name)\n",
    "#         Father().__init__(Language, Name)\n",
    "#         self.Child = Child_Name\n",
    "        \n",
    "# mashab: Child = Child(\"Shaihda Parveen\" ,\"Raja Jamshaid\" , \"Raja Mashab\")\n",
    "# print(mashab.Language(\"Hindko\"))\n",
    "        \n",
    "        "
   ]
  },
  {
   "cell_type": "code",
   "execution_count": 28,
   "metadata": {},
   "outputs": [
    {
     "name": "stdout",
     "output_type": "stream",
     "text": [
      "Dog\n",
      "german Shefled\n",
      "animal Speaks\n"
     ]
    }
   ],
   "source": [
    "class Animal(): # there is create the class where there is Animal (used the first letters is capital)\n",
    "    \n",
    "    def __init__(self , name) -> None: # this is the instructor where is the to create the functions\n",
    "        self.__name = name\n",
    "    \n",
    "    def get_name(self) -> str:\n",
    "        return self.__name\n",
    "        \n",
    "    def speak(self):\n",
    "        print(\"animal Speaks\")\n",
    "\n",
    "\n",
    "class speak(Animal):\n",
    "    \n",
    "    def __init__(self, name , breed) -> None:\n",
    "        super().__init__(name)\n",
    "        self.__breed = breed\n",
    "    def get_breed(self) -> str:\n",
    "        return self.__breed\n",
    "\n",
    "obj1 = speak(\"Dog\" , \"german Shefled\")\n",
    "print(obj1.get_name())\n",
    "print(obj1.get_breed())\n",
    "obj1.speak()"
   ]
  },
  {
   "cell_type": "code",
   "execution_count": 42,
   "metadata": {},
   "outputs": [
    {
     "name": "stdout",
     "output_type": "stream",
     "text": [
      "Dog\n",
      "German Shepherd\n",
      "Woof!\n"
     ]
    }
   ],
   "source": [
    "class Animal:\n",
    "    def __init__(self, name) -> None:\n",
    "        self.__name = name\n",
    "\n",
    "    def get_name(self) -> str:\n",
    "        return self.__name\n",
    "\n",
    "    def speak(self):\n",
    "        print(\"Animal speaks\")\n",
    "\n",
    "class Speak(Animal):\n",
    "    def __init__(self, name, breed) -> None:\n",
    "        super().__init__(name)\n",
    "        self.__breed = breed\n",
    "\n",
    "    def get_breed(self) -> str:\n",
    "        return self.__breed\n",
    "\n",
    "    def speak(self):\n",
    "        print(\"Woof!\")\n",
    "\n",
    "# Create an instance of Speak\n",
    "obj1 = Speak(\"Dog\", \"German Shepherd\")\n",
    "\n",
    "# Access private attributes using getter methods\n",
    "print(obj1.get_name())  # Output: Dog\n",
    "print(obj1.get_breed()) # Output: German Shepherd\n",
    "\n",
    "# Call the speak method\n",
    "obj1.speak()  # Output: Woof!\n"
   ]
  },
  {
   "cell_type": "code",
   "execution_count": 38,
   "metadata": {},
   "outputs": [
    {
     "name": "stdout",
     "output_type": "stream",
     "text": [
      "Dog\n",
      "Animal Names \n"
     ]
    }
   ],
   "source": [
    "class Animal():\n",
    "    \n",
    "    def __init__(self , name) -> None:\n",
    "        self.__name = name\n",
    "    def  get_name(self):\n",
    "        return self.__name\n",
    "    def speak(self):\n",
    "        print(\"Animal Names \")\n",
    "        \n",
    "class Parent(Animal):\n",
    "    def __init__(self, name , breed) -> None:\n",
    "        super().__init__(name)\n",
    "    #     self.__breed = breed\n",
    "    # def get_breed(self):\n",
    "    #     return self.__breed \n",
    "obj2 = Animal(\"Dog\")\n",
    "\n",
    "print(obj2.get_name())\n",
    "# print(obj2.get_breed())\n",
    "\n",
    "obj2.speak()"
   ]
  },
  {
   "cell_type": "code",
   "execution_count": 40,
   "metadata": {},
   "outputs": [
    {
     "data": {
      "text/plain": [
       "int"
      ]
     },
     "execution_count": 40,
     "metadata": {},
     "output_type": "execute_result"
    }
   ],
   "source": [
    "a  : int = 23\n",
    "\n",
    "\n",
    "type(a)\n",
    "# print(a) "
   ]
  },
  {
   "cell_type": "code",
   "execution_count": 41,
   "metadata": {},
   "outputs": [],
   "source": [
    "class Atm:\n",
    "    def __init__(self) :\n",
    "        self.pin = \"\"\n",
    "        self.balance = 0\n",
    "        self.menu()\n",
    "    def menu(self):\n",
    "        user_input =input(\"\"\"\n",
    "                          \n",
    "            Hello , how would you like to proceed \n",
    "            1. Enter 1 to create pin              \n",
    "            2. Enter 2 to deposit \n",
    "            3. Enter 3 to withdraw\n",
    "            4. Enter 4 to check balance\n",
    "            5. Enter 5 to exist                                     \n",
    "                          \"\"\")\n",
    "        if user_input == \"1\":\n",
    "            print(\"Create Pin\")\n",
    "        elif user_input == \"2\":\n",
    "            print(\"Withdraw\")\n",
    "        elif user_input == \"3\":\n",
    "            print(\"Deposit\")\n",
    "        elif user_input == \"4\":\n",
    "            print(\"Balance\")\n",
    "        else:\n",
    "            print(\"Exist\")"
   ]
  },
  {
   "cell_type": "code",
   "execution_count": null,
   "metadata": {},
   "outputs": [],
   "source": [
    "from typing import Union,overload\n",
    "\n",
    "\n",
    "@overload\n",
    "\n",
    "def add(x:int , y: int)-> int:\n",
    "    return  x+y\n",
    "\n",
    "@overload\n",
    "\n",
    "def add(x:str , y : str) -> str:\n",
    "    "
   ]
  },
  {
   "cell_type": "code",
   "execution_count": 1,
   "metadata": {},
   "outputs": [
    {
     "name": "stdout",
     "output_type": "stream",
     "text": [
      "Woof!\n",
      "Meow!\n"
     ]
    }
   ],
   "source": [
    "from typing import Protocol\n",
    "\n",
    "# Define an interface using a protocol\n",
    "class Animal(Protocol):\n",
    "    def speak(self) -> str:\n",
    "        ...\n",
    "\n",
    "class Dog:\n",
    "    def speak(self) -> str:\n",
    "        return \"Woof!\"\n",
    "\n",
    "class Cat:\n",
    "    def speak(self) -> str:\n",
    "        return \"Meow!\"\n",
    "\n",
    "def make_animal_speak(animal: Animal) -> None:\n",
    "    print(animal.speak())\n",
    "\n",
    "dog = Dog()\n",
    "cat = Cat()\n",
    "\n",
    "make_animal_speak(dog)  # Outputs: Woof!\n",
    "make_animal_speak(cat)  # Outputs: Meow!\n"
   ]
  },
  {
   "cell_type": "code",
   "execution_count": 5,
   "metadata": {},
   "outputs": [
    {
     "name": "stdout",
     "output_type": "stream",
     "text": [
      "Flying\n",
      "Jetting through the sky\n"
     ]
    }
   ],
   "source": [
    "class Bird:\n",
    "    def fly(self):\n",
    "        return \"Flying\"\n",
    "\n",
    "class Airplane:\n",
    "    def fly(self):\n",
    "        return \"Jetting through the sky\"\n",
    "\n",
    "def let_it_fly(flying_thing):\n",
    "    print(flying_thing.fly())\n",
    "\n",
    "objct1 = Bird()\n",
    "\n",
    "objct2 = Airplane()\n",
    "\n",
    "let_it_fly(objct1)  # Outputs: Flying\n",
    "let_it_fly(objct2)   # Outputs: Jetting through the sky\n"
   ]
  },
  {
   "cell_type": "code",
   "execution_count": 16,
   "metadata": {},
   "outputs": [
    {
     "name": "stdout",
     "output_type": "stream",
     "text": [
      "Raja\n",
      "Mashab\n",
      "Welcome Raja\n",
      "Welcome Mashab\n"
     ]
    }
   ],
   "source": [
    "class A:\n",
    "    def __init__(self,firstname , lname) -> None:\n",
    "        self.firstname = firstname\n",
    "        self.lname = lname\n",
    "    def show(self,firstname:str = \"\"):\n",
    "        print('Welcome',firstname)   \n",
    "    def show(self,lastname= \"\"):\n",
    "        print(\"Welcome\",lastname)\n",
    "objt1 = A(\"Raja\",\"Mashab\")\n",
    "print(objt1.firstname)\n",
    "print(objt1.lname)\n",
    "objt1.show(\"Raja\")\n",
    "objt1.show(\"Mashab\")\n",
    "   \n",
    "\n",
    "# overloading\n"
   ]
  },
  {
   "cell_type": "code",
   "execution_count": 18,
   "metadata": {},
   "outputs": [
    {
     "name": "stdout",
     "output_type": "stream",
     "text": [
      "Woof! Woof!\n"
     ]
    }
   ],
   "source": [
    "class Animal:\n",
    "    def make_sound(self):\n",
    "        print(\"Some generic animal sound\")\n",
    "\n",
    "class Dog(Animal):\n",
    "    def make_sound(self):\n",
    "        super().make_sound()  # Call the method from the parent class\n",
    "        print(\"Woof! Woof!\")\n",
    "\n",
    "obj1 = Dog()\n",
    "obj1.make_sound()\n"
   ]
  },
  {
   "cell_type": "code",
   "execution_count": 19,
   "metadata": {},
   "outputs": [
    {
     "name": "stdout",
     "output_type": "stream",
     "text": [
      "1\n",
      "2\n",
      "3\n",
      "4\n",
      "5\n",
      "6\n"
     ]
    }
   ],
   "source": [
    "def print_numbers():\n",
    "    for number in [1,2,3,4,5,6]:\n",
    "        print(number)\n",
    "\n",
    "print_numbers()\n"
   ]
  },
  {
   "cell_type": "code",
   "execution_count": 2,
   "metadata": {},
   "outputs": [
    {
     "name": "stdout",
     "output_type": "stream",
     "text": [
      "8\n",
      "4\n"
     ]
    }
   ],
   "source": [
    "print(len(\"pakistan\"))\n",
    "\n",
    "print(len(['r','e','r','kf']))"
   ]
  },
  {
   "cell_type": "code",
   "execution_count": 3,
   "metadata": {},
   "outputs": [
    {
     "name": "stdout",
     "output_type": "stream",
     "text": [
      "Write a couplet about my friend Tommy who has about 5 potatoes\n"
     ]
    }
   ],
   "source": [
    "name = \"Tommy\"\n",
    "potatoes = 4.75\n",
    "prompt = f\"\"\"Write a couplet about my friend {name} who has about {round(potatoes)} potatoes\"\"\"\n",
    "\n",
    "\n",
    "print(prompt)"
   ]
  },
  {
   "cell_type": "code",
   "execution_count": 4,
   "metadata": {},
   "outputs": [
    {
     "name": "stdout",
     "output_type": "stream",
     "text": [
      "14\n"
     ]
    }
   ],
   "source": [
    "my_number = 13.5\n",
    "\n",
    "\n",
    "print(round(my_number))"
   ]
  },
  {
   "cell_type": "code",
   "execution_count": 5,
   "metadata": {},
   "outputs": [
    {
     "name": "stdout",
     "output_type": "stream",
     "text": [
      "something is happeing before the fucntions\n",
      "Hello\n",
      "Somethong happeing after the functions\n"
     ]
    }
   ],
   "source": [
    "def my_decorator(func):\n",
    "    def wrapper():\n",
    "        print(\"something is happeing before the fucntions\")\n",
    "        func()\n",
    "        print(\"Somethong happeing after the functions\")\n",
    "    return wrapper\n",
    "@my_decorator\n",
    "def say_hello():\n",
    "    print(\"Hello\")\n",
    "say_hello()"
   ]
  },
  {
   "cell_type": "code",
   "execution_count": null,
   "metadata": {},
   "outputs": [],
   "source": [
    "def my_funct(func):\n",
    "    def wrapper():\n",
    "        print(\"Hello World\")\n",
    "    func()\n",
    "    print()"
   ]
  },
  {
   "cell_type": "code",
   "execution_count": 19,
   "metadata": {},
   "outputs": [
    {
     "name": "stdout",
     "output_type": "stream",
     "text": [
      "46\n",
      "Hi my darling\n"
     ]
    },
    {
     "ename": "TypeError",
     "evalue": "'NoneType' object is not callable",
     "output_type": "error",
     "traceback": [
      "\u001b[1;31m---------------------------------------------------------------------------\u001b[0m",
      "\u001b[1;31mTypeError\u001b[0m                                 Traceback (most recent call last)",
      "Cell \u001b[1;32mIn[19], line 13\u001b[0m\n\u001b[0;32m     10\u001b[0m \u001b[38;5;129m@my_decorator\u001b[39m\n\u001b[0;32m     11\u001b[0m \u001b[38;5;28;01mdef\u001b[39;00m \u001b[38;5;21msay_dear\u001b[39m():\n\u001b[0;32m     12\u001b[0m     \u001b[38;5;28mprint\u001b[39m(\u001b[38;5;124m\"\u001b[39m\u001b[38;5;124mHi my darling\u001b[39m\u001b[38;5;124m\"\u001b[39m) \n\u001b[1;32m---> 13\u001b[0m \u001b[43msay_dear\u001b[49m\u001b[43m(\u001b[49m\u001b[43m)\u001b[49m \n",
      "\u001b[1;31mTypeError\u001b[0m: 'NoneType' object is not callable"
     ]
    }
   ],
   "source": [
    "# from ast import Str\n",
    "\n",
    "\n",
    "def my_decorator(func):\n",
    "    def wrapper(x:int , y :int):\n",
    "        print(x+y)\n",
    "        func()\n",
    "    return wrapper(12,34)\n",
    "\n",
    "@my_decorator\n",
    "def say_dear():\n",
    "    print(\"Hi my darling\") \n",
    "say_dear() "
   ]
  },
  {
   "cell_type": "code",
   "execution_count": 8,
   "metadata": {},
   "outputs": [
    {
     "name": "stdout",
     "output_type": "stream",
     "text": [
      "Hi raja g\n",
      "25\n"
     ]
    }
   ],
   "source": [
    "def  my_decorator(func):\n",
    "    def wraper(*arg ,**kwargs):\n",
    "        print(\"Hi raja g\")\n",
    "        result = func(*arg,**kwargs)\n",
    "        return result\n",
    "    return wraper\n",
    "@my_decorator\n",
    "def add(x : int , y : int):\n",
    "    return x+ y\n",
    "print(add(12,13))\n",
    "    "
   ]
  },
  {
   "cell_type": "code",
   "execution_count": 5,
   "metadata": {},
   "outputs": [
    {
     "name": "stdout",
     "output_type": "stream",
     "text": [
      "24\n"
     ]
    },
    {
     "ename": "TypeError",
     "evalue": "decorator.<locals>.wrapper() takes 0 positional arguments but 2 were given",
     "output_type": "error",
     "traceback": [
      "\u001b[1;31m---------------------------------------------------------------------------\u001b[0m",
      "\u001b[1;31mTypeError\u001b[0m                                 Traceback (most recent call last)",
      "Cell \u001b[1;32mIn[5], line 15\u001b[0m\n\u001b[0;32m     10\u001b[0m \u001b[38;5;129m@decorator\u001b[39m\n\u001b[0;32m     11\u001b[0m \n\u001b[0;32m     12\u001b[0m \u001b[38;5;28;01mdef\u001b[39;00m \u001b[38;5;21msay_hello\u001b[39m(x:\u001b[38;5;28mint\u001b[39m , y: \u001b[38;5;28mint\u001b[39m):\n\u001b[0;32m     13\u001b[0m     \u001b[38;5;28mprint\u001b[39m(x\u001b[38;5;241m+\u001b[39my)\n\u001b[1;32m---> 15\u001b[0m \u001b[43msay_hello\u001b[49m\u001b[43m(\u001b[49m\u001b[38;5;241;43m12\u001b[39;49m\u001b[43m,\u001b[49m\u001b[38;5;241;43m13\u001b[39;49m\u001b[43m)\u001b[49m\n",
      "\u001b[1;31mTypeError\u001b[0m: decorator.<locals>.wrapper() takes 0 positional arguments but 2 were given"
     ]
    }
   ],
   "source": [
    "\n",
    "\n",
    "\n",
    "# def add(x:int , y: int):\n",
    "#  return x+y\n",
    "# add(12,13)\n",
    "\n",
    "def decorator(sum):\n",
    "    def wrapper():   \n",
    "     print(\"Raja Masab\")\n",
    "    sum(12,12)\n",
    "    return wrapper\n",
    "@decorator\n",
    "\n",
    "def say_hello(x:int , y: int):\n",
    "    print(x+y)\n",
    "\n",
    "say_hello(12,13)"
   ]
  },
  {
   "cell_type": "code",
   "execution_count": null,
   "metadata": {},
   "outputs": [],
   "source": []
  },
  {
   "cell_type": "code",
   "execution_count": 20,
   "metadata": {},
   "outputs": [
    {
     "name": "stdout",
     "output_type": "stream",
     "text": [
      "19\n",
      "Raja Anas\n",
      "hello this is me  Raja Anas \n"
     ]
    }
   ],
   "source": [
    "class Student:\n",
    "    def __init__(self, Name : str = \"Raja Mashab\"  , Age : int  = 25):\n",
    "        self.Name = Name  \n",
    "        self.Age = Age\n",
    "    def speak(self):\n",
    "        print(f\"hello this is me  {self.Name} \")\n",
    "    \n",
    "class Teacher(Student):\n",
    "    def __init__(self, Name: str = \"Raja Anas\", Age: int = 19):\n",
    "        super().__init__(Name, Age)\n",
    "\n",
    "\n",
    "obj1 = Teacher()\n",
    "\n",
    "print(obj1.Age)\n",
    "print(obj1.Name)\n",
    "\n",
    "obj1.speak()"
   ]
  },
  {
   "cell_type": "code",
   "execution_count": 2,
   "metadata": {},
   "outputs": [
    {
     "name": "stdout",
     "output_type": "stream",
     "text": [
      "[65, 58]\n",
      "['fathe', 'mothe']\n",
      "Father age is 65 and Mother Age is 58\n",
      "Father Name is  fathe and Mother Name is the 58\n"
     ]
    }
   ],
   "source": [
    "class Parent:\n",
    "    def __init__(self , Name , Age  ):\n",
    "        self.Name = Name  # attributes \n",
    "        self.Age = Age # attributes \n",
    "        self.Education = \"BBA\"\n",
    "    def  father(self):  # methods\n",
    "        print(f'Father age is {self.Age[0]} and Mother Age is {self.Age[1]}')\n",
    "    def Mother(self): #  methods\n",
    "        print(f\"Father Name is  {self.Name[0]} and Mother Name is the {self.Age[1]}\")\n",
    "\n",
    "obj1 = Parent([\"fathe\",\"mothe\"],[65,58])\n",
    "\n",
    "print(obj1.Age)\n",
    "print(obj1.Name)\n",
    "obj1.father()\n",
    "obj1.Mother()"
   ]
  },
  {
   "cell_type": "code",
   "execution_count": 3,
   "metadata": {},
   "outputs": [
    {
     "name": "stdout",
     "output_type": "stream",
     "text": [
      "[65, 58]\n",
      "['Jamshaid', 'Shahida Parveen']\n",
      "Father age is 65 and Mother Age is 58\n",
      "Father Name is  Jamshaid and Mother Name is the 58\n"
     ]
    }
   ],
   "source": [
    "class Parent():\n",
    "    def __init__(self , Name , Age  ):\n",
    "        self.Name = Name \n",
    "        self.Age = Age\n",
    "        self.Education = \"BBA\"\n",
    "    def  father(self):\n",
    "        print(f'Father age is {self.Age[0]} and Mother Age is {self.Age[1]}')\n",
    "    def Mother(self):\n",
    "        print(f\"Father Name is  {self.Name[0]} and Mother Name is the {self.Age[1]}\")\n",
    "class Child(Parent):\n",
    "    def __init__(self, Name, Age):\n",
    "        super().__init__(Name, Age,)\n",
    "\n",
    "obj1 = Child([\"Jamshaid\",\"Shahida Parveen\"],[65,58])\n",
    "\n",
    "print(obj1.Age)\n",
    "print(obj1.Name)\n",
    "obj1.father()\n",
    "obj1.Mother()"
   ]
  },
  {
   "cell_type": "code",
   "execution_count": 23,
   "metadata": {},
   "outputs": [
    {
     "name": "stdout",
     "output_type": "stream",
     "text": [
      "Something after the function runs.\n",
      "Something before the function runs.\n",
      "Something after the function runs.\n",
      "Result of addition: 8\n"
     ]
    }
   ],
   "source": [
    "def my_decorator(func):\n",
    "    def wrapper(x, y):\n",
    "        print(\"Something before the function runs.\")\n",
    "        result = func(x, y)  # Call the function with its parameters and store the result\n",
    "        print(\"Something after the function runs.\")\n",
    "        return result  # Return the result from the original function\n",
    "    print(\"Something after the function runs.\")\n",
    "    return wrapper\n",
    "\n",
    "@my_decorator\n",
    "def add(x, y):\n",
    "    return x + y\n",
    "\n",
    "# Calling the decorated function\n",
    "result = add(5, 3)  # This will now print messages before and after the function execution\n",
    "print(\"Result of addition:\", result)\n"
   ]
  }
 ],
 "metadata": {
  "kernelspec": {
   "display_name": "Python 3",
   "language": "python",
   "name": "python3"
  },
  "language_info": {
   "codemirror_mode": {
    "name": "ipython",
    "version": 3
   },
   "file_extension": ".py",
   "mimetype": "text/x-python",
   "name": "python",
   "nbconvert_exporter": "python",
   "pygments_lexer": "ipython3",
   "version": "3.12.3"
  }
 },
 "nbformat": 4,
 "nbformat_minor": 2
}
