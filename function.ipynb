{
 "cells": [
  {
   "cell_type": "code",
   "execution_count": 1,
   "metadata": {},
   "outputs": [
    {
     "name": "stdout",
     "output_type": "stream",
     "text": [
      "The Number is Even and True\n"
     ]
    }
   ],
   "source": [
    "# Exercise 1: Basic Function Definition\n",
    "# Task: Define a function called is_even() that takes an integer as an argument and returns \n",
    "# True if the number is even and False if it's odd.\n",
    "# Challenge: Write a few test cases to check if your function works as expected.\n",
    "\n",
    "\n",
    "\n",
    "def is_even(n):\n",
    "    if n % 2 == 0:\n",
    "        print(\"The Number is Even and True\")\n",
    "    elif n % 2 == 1:\n",
    "        print(\"The Number is Odd and it is False\")\n",
    "    else:\n",
    "        print(\"The Numbers something different\")\n",
    "is_even(n=int(input(\"Enter the Number :\")))"
   ]
  },
  {
   "cell_type": "code",
   "execution_count": 4,
   "metadata": {},
   "outputs": [
    {
     "data": {
      "text/plain": [
       "24"
      ]
     },
     "execution_count": 4,
     "metadata": {},
     "output_type": "execute_result"
    }
   ],
   "source": [
    "# Exercise 2: Function with Multiple Parameters\n",
    "# Task: Define a function called calculate_area() that takes two parameters: length and width. \n",
    "# The function should return the area of a rectangle.\n",
    "# Challenge: Modify the function to handle the case where either length or width is not provided,\n",
    "# and it should default to 1.\n",
    "\n",
    "def calculate_area(length,width):\n",
    "    return length*width\n",
    "    \n",
    "\n",
    "calculate_area(12,2) \n",
    "    "
   ]
  },
  {
   "cell_type": "code",
   "execution_count": 6,
   "metadata": {},
   "outputs": [],
   "source": [
    "# Exercise 10: Function Documentation\n",
    "# Task: Write a function greet_user() that takes a user's name as a parameter and prints a greeting. \n",
    "# Add a docstring to your function explaining its purpose and parameters.\n",
    "# Challenge: Write a few more functions and document them properly. \n",
    "# Use the help() function in Python to check how the docstring appears.\n",
    "\n",
    "\n",
    "def greet_user(username):\n",
    "    return f\"hi kia hall hain {username}\"\n",
    "\n",
    "greet_user(\"Raja Mashab\")\n"
   ]
  },
  {
   "cell_type": "code",
   "execution_count": null,
   "metadata": {},
   "outputs": [],
   "source": [
    "# Exercise 9: Nested Functions\n",
    "# Task: Create a function outer() that contains another function inner(). \n",
    "# The inner() function should print a message, and the outer() function should call inner().\n",
    "# Challenge: Modify the outer() function to return the inner() function, \n",
    "# and then call the returned function outside of outer().\n",
    "\n",
    "def outer():\n",
    "    def inner():\n",
    "        \n",
    "    "
   ]
  },
  {
   "cell_type": "code",
   "execution_count": 3,
   "metadata": {},
   "outputs": [
    {
     "name": "stdout",
     "output_type": "stream",
     "text": [
      "The Number is Negative\n"
     ]
    }
   ],
   "source": [
    "# Check if Positive\n",
    "# Task: Create a function called is_positive() that takes a number as an argument and returns \n",
    "# True if the number is positive, and False if it is zero or negative.\n",
    "\n",
    "\n",
    "def is_positive(number):\n",
    "    if number >= 0:\n",
    "        return \"The numbers is positive\"\n",
    "    else:\n",
    "         print(\"The Number is Negative\")\n",
    "is_positive(number=int(input(\"Enter the Numbers :\")))"
   ]
  },
  {
   "cell_type": "code",
   "execution_count": 15,
   "metadata": {},
   "outputs": [
    {
     "name": "stdout",
     "output_type": "stream",
     "text": [
      "5\n"
     ]
    }
   ],
   "source": [
    "#  String Length\n",
    "# Task: Write a function called string_length() that takes a string \n",
    "# as an argument and returns the length of that string.\n",
    "# import inspect\n",
    "def string_lenght(khan=\"Hello\"):\n",
    "    \n",
    "    length_of_str = len(khan)\n",
    "    print(length_of_str)\n",
    "\n",
    "string_lenght()"
   ]
  },
  {
   "cell_type": "code",
   "execution_count": 17,
   "metadata": {},
   "outputs": [
    {
     "name": "stdout",
     "output_type": "stream",
     "text": [
      "6\n"
     ]
    }
   ],
   "source": [
    "my_tuple = [1,2,3,4,5,6]\n",
    "\n",
    "print(len(my_tuple))"
   ]
  },
  {
   "cell_type": "code",
   "execution_count": 19,
   "metadata": {},
   "outputs": [
    {
     "data": {
      "text/plain": [
       "12"
      ]
     },
     "execution_count": 19,
     "metadata": {},
     "output_type": "execute_result"
    }
   ],
   "source": [
    "#  find  and calculate the mmin and max functions in python\n",
    "\n",
    "\n",
    "def my_func(x,y,z):\n",
    "    return max(x,y,z)\n",
    "\n",
    "my_func(12,3,11)"
   ]
  },
  {
   "cell_type": "code",
   "execution_count": 20,
   "metadata": {},
   "outputs": [
    {
     "data": {
      "text/plain": [
       "1"
      ]
     },
     "execution_count": 20,
     "metadata": {},
     "output_type": "execute_result"
    }
   ],
   "source": [
    "#  min fucntions that are called \n",
    "\n",
    "\n",
    "def my_fucn(x,y,z):\n",
    "    return min(x,y,z)\n",
    "my_fucn(1,2,3)"
   ]
  },
  {
   "cell_type": "code",
   "execution_count": 1,
   "metadata": {},
   "outputs": [
    {
     "name": "stdout",
     "output_type": "stream",
     "text": [
      "{1, 2, 3, 'fawad'}\n"
     ]
    }
   ],
   "source": [
    "logged_user : set = {\"fawad\",\"fawad\",1,2,3}\n",
    "\n",
    "print(logged_user)"
   ]
  },
  {
   "cell_type": "code",
   "execution_count": null,
   "metadata": {},
   "outputs": [],
   "source": [
    "square : complex = 1\n",
    "\n",
    "print(square.conjugate())\n",
    "print(square.imag)\n",
    "print(square.real)"
   ]
  },
  {
   "cell_type": "code",
   "execution_count": 6,
   "metadata": {},
   "outputs": [
    {
     "name": "stdout",
     "output_type": "stream",
     "text": [
      "Hello\n",
      "World\n",
      "This is me Raja Mashab\n",
      "I am Abbottabad\n"
     ]
    }
   ],
   "source": [
    "def example_yield():\n",
    "    yield \"Hello\"\n",
    "    yield \"World\"\n",
    "    yield  \"This is me Raja Mashab\"\n",
    "    yield  \"I am Abbottabad\"\n",
    "\n",
    "gen = example_yield()\n",
    "print(next(gen))\n",
    "print(next(gen))\n",
    "print(next(gen))\n",
    "print(next(gen))"
   ]
  },
  {
   "cell_type": "code",
   "execution_count": 5,
   "metadata": {},
   "outputs": [
    {
     "name": "stdout",
     "output_type": "stream",
     "text": [
      "Raja Mashab\n",
      "Raja Mashab\n",
      "Raja Mashab\n",
      "Raja Mashab\n",
      "Raja Mashab\n",
      "Raja Mashab\n",
      "Raja Mashab\n",
      "Raja Mashab\n",
      "Raja Mashab\n",
      "Hello World\n"
     ]
    }
   ],
   "source": [
    "for i in range(1,10):\n",
    "    print(\"Raja Mashab\")\n",
    "print(\"Hello World\")"
   ]
  },
  {
   "cell_type": "code",
   "execution_count": null,
   "metadata": {},
   "outputs": [],
   "source": [
    "for chr in \"Mashab\":\n",
    "    print(chr)"
   ]
  },
  {
   "cell_type": "code",
   "execution_count": null,
   "metadata": {},
   "outputs": [],
   "source": [
    "password = \"\"\n",
    "\n",
    "while password  != \"secret\":\n",
    "    password = input(\"Enter your password :\")\n",
    "    if password == \"secret\":\n",
    "        print(\"Acess granted\")\n",
    "    else:\n",
    "        print(\"Incorrect password\")\n",
    "\n",
    "\n",
    "    "
   ]
  },
  {
   "cell_type": "code",
   "execution_count": 4,
   "metadata": {},
   "outputs": [
    {
     "name": "stdout",
     "output_type": "stream",
     "text": [
      "[1, 2, 3, 4, 5]\n"
     ]
    }
   ],
   "source": [
    "my_list = []  # Creating an empty list.\n",
    "\n",
    "for i in range(5):\n",
    "    my_list.append(i + 1  )\n",
    "print(my_list)\n"
   ]
  },
  {
   "cell_type": "markdown",
   "metadata": {},
   "source": [
    "Decorator Functions in  python"
   ]
  },
  {
   "cell_type": "code",
   "execution_count": null,
   "metadata": {},
   "outputs": [],
   "source": [
    "def Myfunction(func):\n",
    "    def wrapper(**args,**kwargs):\n",
    "        print(\"Something is before the functions \")\n",
    "        func()\n",
    "        print(\"something is after the fucntions\")\n",
    "    return wrapper\n",
    "@Myfunction\n",
    "def Addition(x:int , y:int):\n",
    "   return x+y\n",
    "print(Addition(12,13))\n"
   ]
  },
  {
   "cell_type": "code",
   "execution_count": 17,
   "metadata": {},
   "outputs": [
    {
     "name": "stdout",
     "output_type": "stream",
     "text": [
      "37.0\n"
     ]
    }
   ],
   "source": [
    "def addtwonumber(x : int , y:int)->int:\n",
    " \n",
    "    result = x + y\n",
    "    return (result)\n",
    "\n",
    "\n",
    "x : int = 10\n",
    "y : int = 15\n",
    "\n",
    "output = addtwonumber(x,y)\n",
    "finaloutput = addtwonumber(12+13+12-output,output)\n",
    "print(float(finaloutput))"
   ]
  },
  {
   "cell_type": "code",
   "execution_count": 24,
   "metadata": {},
   "outputs": [
    {
     "name": "stdout",
     "output_type": "stream",
     "text": [
      "[1, 2, 3, 4, 5, 6, 7, 8, 9, 10, 2, 3, 4, 5]\n"
     ]
    }
   ],
   "source": [
    "my_list : list[int] = [1,2,3,4,5,6,7,8,9,10]\n",
    "\n",
    "my_list2 : list[int] = [2,3,4,5]\n",
    "print(my_list  +my_list2)"
   ]
  },
  {
   "cell_type": "code",
   "execution_count": null,
   "metadata": {},
   "outputs": [],
   "source": []
  },
  {
   "cell_type": "code",
   "execution_count": 3,
   "metadata": {},
   "outputs": [
    {
     "name": "stdout",
     "output_type": "stream",
     "text": [
      "----WELCOME TO THE TASK MANAGEMENT APP----\n",
      "Today's tasks are\n",
      "['jjj', 'hh', 'hh', 'h', 'hh', 'hh']\n",
      "Task 'all tasks' has been successfully added.\n",
      "Closing the program....\n"
     ]
    }
   ],
   "source": [
    "def task():\n",
    "    tasks = []  # Initialize an empty list to store tasks\n",
    "    print(\"----WELCOME TO THE TASK MANAGEMENT APP----\")\n",
    "    total_task = int(input(\"Enter how many tasks you want to add = \"))\n",
    "    for i in range(1, total_task + 1):\n",
    "        task_name = input(f\"Enter task {i} = \")\n",
    "        tasks.append(task_name)\n",
    "    print(f\"Today's tasks are\\n{tasks}\")\n",
    "    \n",
    "    while True:\n",
    "        try:\n",
    "            operation = int(input(\"Enter \\n1-Add\\n2-Update\\n3-Delete\\n4-View\\n5-Exit/Stop\\n\"))\n",
    "            if operation == 1:\n",
    "                add = input(\"Enter task you want to add = \")\n",
    "                tasks.append(add)\n",
    "                print(f\"Task '{add}' has been successfully added.\")\n",
    "            elif operation == 2:\n",
    "                updated_val = input(\"Enter the task name you want to update = \")\n",
    "                if updated_val in tasks:\n",
    "                    up = input(\"Enter new task = \")\n",
    "                    ind = tasks.index(updated_val)\n",
    "                    tasks[ind] = up\n",
    "                    print(f\"Updated task '{updated_val}' to '{up}'.\")\n",
    "                else:\n",
    "                    print(\"Task not found.\")\n",
    "            elif operation == 3:\n",
    "                del_val = input(\"Which task you want to delete = \")\n",
    "                if del_val in tasks:\n",
    "                    ind = tasks.index(del_val)\n",
    "                    del tasks[ind]\n",
    "                    print(f\"Task '{del_val}' has been deleted.\")\n",
    "                else:\n",
    "                    print(\"Task not found.\")\n",
    "            elif operation == 4:\n",
    "                print(f\"Total tasks = {tasks}\")\n",
    "            elif operation == 5:\n",
    "                print(\"Closing the program....\")\n",
    "                break\n",
    "            else:\n",
    "                print(\"Invalid Input. Please enter a number from 1 to 5.\")\n",
    "        except ValueError:\n",
    "            print(\"Invalid Input. Please enter a valid number.\")\n",
    "\n",
    "task()\n"
   ]
  }
 ],
 "metadata": {
  "kernelspec": {
   "display_name": "Python 3",
   "language": "python",
   "name": "python3"
  },
  "language_info": {
   "codemirror_mode": {
    "name": "ipython",
    "version": 3
   },
   "file_extension": ".py",
   "mimetype": "text/x-python",
   "name": "python",
   "nbconvert_exporter": "python",
   "pygments_lexer": "ipython3",
   "version": "3.12.3"
  }
 },
 "nbformat": 4,
 "nbformat_minor": 2
}
