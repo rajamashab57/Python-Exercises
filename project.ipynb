{
 "cells": [
  {
   "cell_type": "code",
   "execution_count": null,
   "metadata": {},
   "outputs": [],
   "source": [
    "def main():\n",
    " print('Diamonds, by Al Sweigart al@inventwithpython.com')\n",
    "\n",
    " # Display diamonds of sizes 0 through 6:\n",
    "for diamondSize in range(0, 6):\n",
    "        displayOutlineDiamond(diamondSize)\n",
    "        print() # Print a newline.\n",
    "   displayFilledDiamond(diamondSize)\n",
    "   print() # Print a newline.\n",
    "\n",
    "\n",
    " def displayOutlineDiamond(size):\n",
    " # Display the top half of the diamond:\n",
    " for i in range(size):\n",
    " print(' ' * (size - i - 1), end='') # Left side space.\n",
    " print('/', end='') # Left side of diamond.\n",
    " print(' ' * (i * 2), end='') # Interior of diamond.\n",
    " print('\\\\') # Right side of diamond.\n",
    "\n",
    " # Display the bottom half of the diamond:\n",
    "for i in range(size):\n",
    "print(' ' * i, end='') # Left side space.\n",
    " print('\\\\', end='') # Left side of diamond.\n",
    "print(' ' * ((size - i - 1) * 2), end='') # Interior of diamond.\n",
    "print('/') # Right side of diamond."
   ]
  },
  {
   "cell_type": "code",
   "execution_count": 2,
   "metadata": {},
   "outputs": [
    {
     "name": "stdout",
     "output_type": "stream",
     "text": [
      "  *\n",
      " ***\n",
      "*****\n",
      " ***\n",
      "  *\n"
     ]
    }
   ],
   "source": [
    "def draw_filled_diamond(size):\n",
    "    \"\"\"Draws a filled diamond of the specified size.\"\"\"\n",
    "    # Top half of the diamond\n",
    "    for i in range(size):\n",
    "        print(\" \" * (size - i - 1) + \"*\" * (2 * i + 1))\n",
    "    \n",
    "    # Bottom half of the diamond\n",
    "    for i in range(size - 2, -1, -1):\n",
    "        print(\" \" * (size - i - 1) + \"*\" * (2 * i + 1))\n",
    "\n",
    "\n",
    "# def draw_outline_diamond(size):\n",
    "#     \"\"\"Draws an outline of a diamond of the specified size.\"\"\"\n",
    "#     # Top half of the diamond\n",
    "#     for i in range(size):\n",
    "#         if i == 0:\n",
    "#             print(\" \" * (size - i - 1) + \"*\")\n",
    "#         else:\n",
    "#             print(\" \" * (size - i - 1) + \"*\" + \" \" * (2 * i - 1) + \"*\")\n",
    "    \n",
    "#     # Bottom half of the diamond\n",
    "#     for i in range(size - 2, -1, -1):\n",
    "#         if i == 0:\n",
    "#             print(\" \" * (size - i - 1) + \"*\")\n",
    "#         else:\n",
    "#             print(\" \" * (size - i - 1) + \"*\" + \" \" * (2 * i - 1) + \"*\")\n",
    "\n",
    "\n",
    "# # Example usage\n",
    "# size = int(input(\"Enter the size of the diamond: \"))\n",
    "\n",
    "# print(\"\\nFilled Diamond:\")\n",
    "draw_filled_diamond(size=(int(input(\"Enter the prompt :\"))))\n",
    "\n",
    "# print(\"\\nOutline Diamond:\")\n",
    "# draw_outline_diamond(size)\n"
   ]
  },
  {
   "cell_type": "code",
   "execution_count": 13,
   "metadata": {},
   "outputs": [
    {
     "name": "stdout",
     "output_type": "stream",
     "text": [
      "*****\n",
      "*****\n",
      "*****\n",
      "*****\n",
      "***\n"
     ]
    }
   ],
   "source": [
    "n : int  = 5\n",
    "print(\"*\" * n)\n",
    "print(\"*\" * n)\n",
    "print(\"*\" * n)\n",
    "print(\"*\" * n)\n",
    "print(\"*\" * 3)"
   ]
  },
  {
   "cell_type": "code",
   "execution_count": 64,
   "metadata": {},
   "outputs": [
    {
     "name": "stdout",
     "output_type": "stream",
     "text": [
      "* * * * * * \n",
      "* * * * * * \n",
      "* * * * * * \n",
      "* * * * * * \n",
      "* * * * * * \n"
     ]
    }
   ],
   "source": [
    "n : int = 5\n",
    "\n",
    "# print(\"*\" * n)\n",
    "\n",
    "for i in range(n):\n",
    "    for j in range(6):\n",
    "      print(\"*\", end = \" \")\n",
    "    print()\n",
    "    \n",
    "\n"
   ]
  },
  {
   "cell_type": "code",
   "execution_count": 65,
   "metadata": {},
   "outputs": [
    {
     "name": "stdout",
     "output_type": "stream",
     "text": [
      "**\n",
      "***\n",
      "****\n",
      "*****\n"
     ]
    }
   ],
   "source": [
    "r : int = 4\n",
    "for i in range(1,r+1):\n",
    "    for j in range(i+1):\n",
    "        print(\"*\" , end = \"\")\n",
    "    print()"
   ]
  },
  {
   "cell_type": "code",
   "execution_count": 45,
   "metadata": {},
   "outputs": [
    {
     "name": "stdout",
     "output_type": "stream",
     "text": [
      "*****\n",
      "****\n",
      "***\n",
      "**\n",
      "*\n"
     ]
    }
   ],
   "source": [
    "r : int = 5\n",
    "\n",
    "for i in range(r,0,-1):\n",
    "    for j in range(i):\n",
    "        print(\"*\", end = \"\")\n",
    "    print()"
   ]
  },
  {
   "cell_type": "code",
   "execution_count": 62,
   "metadata": {},
   "outputs": [
    {
     "name": "stdout",
     "output_type": "stream",
     "text": [
      "******\n",
      "*****\n",
      "****\n",
      "***\n",
      "**\n",
      "*\n"
     ]
    }
   ],
   "source": [
    "# Multiplication table up to 10\n",
    "# for i in range(1, 11):  # Outer loop for the first number\n",
    "#     for j in range(1, 11):  # Inner loop for the second number\n",
    "#         print(f\"{i} x {j} = {i * j}\")  # Printing the multiplication\n",
    "#     print()  # Blank line for better readability between tables\n",
    "\n",
    "\n",
    "n : int = 6\n",
    "\n",
    "for i in range(n,0,-1):\n",
    "    for j in range(i):\n",
    "        print(\"*\", end= \"\")\n",
    "    \n",
    "    print()"
   ]
  }
 ],
 "metadata": {
  "kernelspec": {
   "display_name": "Python 3",
   "language": "python",
   "name": "python3"
  },
  "language_info": {
   "codemirror_mode": {
    "name": "ipython",
    "version": 3
   },
   "file_extension": ".py",
   "mimetype": "text/x-python",
   "name": "python",
   "nbconvert_exporter": "python",
   "pygments_lexer": "ipython3",
   "version": "3.12.3"
  }
 },
 "nbformat": 4,
 "nbformat_minor": 2
}
