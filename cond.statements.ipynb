{
 "cells": [
  {
   "cell_type": "code",
   "execution_count": 16,
   "metadata": {},
   "outputs": [
    {
     "name": "stdout",
     "output_type": "stream",
     "text": [
      "The number is float\n"
     ]
    }
   ],
   "source": [
    "# Basic Questions\n",
    "# Even or Odd:\n",
    "# Write a Python program that checks whether a number is even or odd.\n",
    "\n",
    "num : float = float(input(\"Enter the Numbers :\"))\n",
    "\n",
    "if num.is_integer():\n",
    "    num = int(num)\n",
    "    if  num % 2 == 0:\n",
    "       print(\"The Numbers is Even\")\n",
    "    elif num % 2 == 1:\n",
    "        print(\"The Numbers is odd \")\n",
    "    else:\n",
    "        print(\"The Numbers is nor odd and even\")\n",
    "else:\n",
    "    print(\"The number is float\")"
   ]
  },
  {
   "cell_type": "code",
   "execution_count": null,
   "metadata": {},
   "outputs": [],
   "source": [
    "# Positive, Negative, or Zero:\n",
    "# Write a Python program that checks whether a number is positive, negative, or zero.\n",
    "\n",
    "\n",
    "num : float = float(input(\"Enter the Numers :\"))\n",
    "\n",
    "if num.is_integer():\n",
    "    num=int(num)\n",
    "    if num >= 0:\n",
    "      print(\"it is Positive Number\")\n",
    "    elif num < 0:\n",
    "      print(\"It is Negative Number\")\n",
    "    else:\n",
    "        print(\"Nor Positive and nor Negative\")\n",
    "else:\n",
    "    print(\"The Numbers is float\")"
   ]
  },
  {
   "cell_type": "code",
   "execution_count": 31,
   "metadata": {},
   "outputs": [
    {
     "name": "stdout",
     "output_type": "stream",
     "text": [
      "You are Fail and your Grade F\n"
     ]
    }
   ],
   "source": [
    "# Grade Calculator:\n",
    "# Write a Python program that converts a numeric grade into a letter grade based on the following scale:\n",
    "\n",
    "# 90-100: A\n",
    "# 80-89: B\n",
    "# 70-79: C\n",
    "# 60-69: D\n",
    "# Below 60: F\n",
    "\n",
    "\n",
    "Grade : int  = int(input(\"Enter the Grade\"))\n",
    "\n",
    "if Grade >= 90:\n",
    "    print(\" Grade A\")\n",
    "elif Grade >= 80 and Grade <= 89:\n",
    "    print(\"Grade B\")\n",
    "elif Grade >=70 and Grade <=79:\n",
    "    print(\"Grade C\")\n",
    "elif  Grade >=60 and Grade <=69:\n",
    "    print(\"Grade D\")\n",
    "else:\n",
    "    print(\"You are Fail and Now you have Obtaied  Grade F\")"
   ]
  },
  {
   "cell_type": "code",
   "execution_count": 47,
   "metadata": {},
   "outputs": [
    {
     "name": "stdout",
     "output_type": "stream",
     "text": [
      "It is not leap nubers \n"
     ]
    }
   ],
   "source": [
    "# Leap Year:\n",
    "# Write a Python program that checks if a given year is a leap year. A year is a leap year if:\n",
    "\n",
    "# It is divisible by 4.\n",
    "# However, if it is divisible by 100, it should also be divisible by 400.\n",
    "\n",
    "num : int = int(input(\"Enter the Numbers :\"))\n",
    "\n",
    "if (num % 4 == 0 and num % 100 == 0) or (num % 400 == 0):\n",
    "   \n",
    "    print(f\"it is Leap year{num}\")\n",
    "\n",
    "else:\n",
    "    print(\"It is not leap nubers \")\n"
   ]
  },
  {
   "cell_type": "code",
   "execution_count": 45,
   "metadata": {},
   "outputs": [
    {
     "name": "stdout",
     "output_type": "stream",
     "text": [
      "It is Vowels sounds Aplhabets\n"
     ]
    }
   ],
   "source": [
    "# Vowel or Consonant:\n",
    "# Write a Python program that checks if a character entered by the user is a vowel or a consonant.\n",
    "\n",
    "\n",
    "char = input(\"Enter the string\").lower()\n",
    "\n",
    "if char in 'aeiou':\n",
    "    print(\"It is Vowels sounds Aplhabets\")\n",
    "\n",
    "elif char.isalpha():\n",
    "    print(f\"{char} is a consonent\")\n",
    "else:\n",
    "    print(f\"{char} is a character \")"
   ]
  },
  {
   "cell_type": "code",
   "execution_count": 50,
   "metadata": {},
   "outputs": [
    {
     "name": "stdout",
     "output_type": "stream",
     "text": [
      "It is consonent\n"
     ]
    }
   ],
   "source": [
    "char = input(\"Enter the Inputs :\").lower()\n",
    "\n",
    "if char in \"aeiou\":\n",
    "    print(\"It is Alphabet\")\n",
    "elif char.isalpha():\n",
    "    print(\"It is consonent\")\n",
    "else:\n",
    "    print(\"It is a character \")\n"
   ]
  },
  {
   "cell_type": "code",
   "execution_count": 55,
   "metadata": {},
   "outputs": [
    {
     "name": "stdout",
     "output_type": "stream",
     "text": [
      "Num1 10 It is the Largest Numbers \n"
     ]
    }
   ],
   "source": [
    "# Largest of Three Numbers:\n",
    "# Write a Python program to find the largest of three numbers entered by the user.\n",
    "\n",
    "\n",
    "num1 : int = int(input(\"Enter the Numbers :\"))\n",
    "num2 : int = int(input(\"Enter the Numbers :\"))\n",
    "num3 : int = int(input(\"Enter the Numbers :\"))\n",
    "\n",
    "if num1 > num2 and num1 >= num3:\n",
    "    print(f\"Num1 {num1} It is the Largest Numbers \")\n",
    "\n",
    "elif num2 > num3 and num2 >= num3:\n",
    "    print(f\"Num2 {num2} is the greater Number\")\n",
    "\n",
    "elif num3 > num1 and num3 >=num2:\n",
    "    print(f\"Num3 {num3} is the greater Number\")\n",
    "else:\n",
    "    if num1==num2 and num1 == num3:\n",
    "        print(f\"All Numbers Num1 ={num1} and Numb2 = {num2} and Num3 ={num3} is Equal \")\n",
    "    else:\n",
    "        print(\"It is Something different\") "
   ]
  },
  {
   "cell_type": "code",
   "execution_count": 62,
   "metadata": {},
   "outputs": [
    {
     "name": "stdout",
     "output_type": "stream",
     "text": [
      "Obesity\n"
     ]
    }
   ],
   "source": [
    "# Advanced Questions\n",
    "# BMI Calculator:\n",
    "# Write a Python program that calculates the Body Mass Index (BMI) and categorizes it as:\n",
    "\n",
    "# Underweight (BMI < 18.5)\n",
    "# Normal weight (18.5 <= BMI < 24.9)\n",
    "# Overweight (25 <= BMI < 29.9)\n",
    "# Obesity (BMI >= 30)\n",
    "\n",
    "\n",
    "BMI : float  = float(input(\"Enter the Number : \"))\n",
    "\n",
    "if BMI.is_integer():\n",
    "    BMI = int(BMI)\n",
    "    if BMI < 18.5:\n",
    "        print(\"Underweight\")\n",
    "    elif BMI >= 18.5 and BMI < 24.9:\n",
    "        print(\"Normal Weight\")\n",
    "    elif BMI >= 25 and BMI < 29.9:\n",
    "        print(\"OverWeight\")\n",
    "    elif BMI >= 30:\n",
    "        print(\"Obesity\")\n",
    "else:\n",
    "    print(\"It is Needs to Hospital\")\n",
    "\n"
   ]
  },
  {
   "cell_type": "code",
   "execution_count": null,
   "metadata": {},
   "outputs": [],
   "source": [
    "# Discount Calculator:\n",
    "# Write a Python program that calculates the discount based on the total purchase amount:\n",
    "\n",
    "# If the amount is greater than or equal to $100, the discount is 20%.\n",
    "# If the amount is between $50 and $99, the discount is 10%.\n",
    "# If the amount is less than $50, there is no discount.\n",
    "\n",
    "\n"
   ]
  },
  {
   "cell_type": "code",
   "execution_count": 66,
   "metadata": {},
   "outputs": [
    {
     "name": "stdout",
     "output_type": "stream",
     "text": [
      "50.0\n"
     ]
    }
   ],
   "source": [
    "amount : float = float(input(\"Enter the Number :\"))\n",
    "\n",
    "if amount >= 100:\n",
    "    discount = 0.20\n",
    "elif amount >= 50 and amount >= 99:\n",
    "    discount = 0.10\n",
    "else:\n",
    "     discount = 0    \n",
    "result = amount -(amount*discount)\n",
    "\n",
    "print(f\"result\")\n"
   ]
  }
 ],
 "metadata": {
  "kernelspec": {
   "display_name": "Python 3",
   "language": "python",
   "name": "python3"
  },
  "language_info": {
   "codemirror_mode": {
    "name": "ipython",
    "version": 3
   },
   "file_extension": ".py",
   "mimetype": "text/x-python",
   "name": "python",
   "nbconvert_exporter": "python",
   "pygments_lexer": "ipython3",
   "version": "3.12.3"
  }
 },
 "nbformat": 4,
 "nbformat_minor": 2
}
